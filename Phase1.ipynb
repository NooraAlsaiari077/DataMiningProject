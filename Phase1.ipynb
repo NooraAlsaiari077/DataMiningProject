{
  "nbformat": 4,
  "nbformat_minor": 0,
  "metadata": {
    "colab": {
      "provenance": [],
      "include_colab_link": true
    },
    "kernelspec": {
      "name": "python3",
      "display_name": "Python 3"
    },
    "language_info": {
      "name": "python"
    }
  },
  "cells": [
    {
      "cell_type": "markdown",
      "metadata": {
        "id": "view-in-github",
        "colab_type": "text"
      },
      "source": [
        "<a href=\"https://colab.research.google.com/github/NooraAlsaiari077/DataMiningProject/blob/main/Phase1.ipynb\" target=\"_parent\"><img src=\"https://colab.research.google.com/assets/colab-badge.svg\" alt=\"Open In Colab\"/></a>"
      ]
    },
    {
      "cell_type": "code",
      "source": [
        "import pandas as pd\n",
        "import numpy as np\n",
        "\n",
        "url = \"https://raw.githubusercontent.com/NooraAlsaiari077/DataMiningProject/refs/heads/main/Dataset/Raw_dataset.csv\"\n",
        "GG_df = pd.read_csv(url)\n",
        "#Number and data types of attributes\n",
        "#Number of Objects\n",
        "\n",
        "\n",
        "GG_df[\"Grade_clean\"] = pd.to_numeric(GG_df[\"Grade\"], errors=\"coerce\")\n",
        "\n",
        "def grade_to_letter(x):\n",
        "    if pd.isna(x):\n",
        "        return np.nan\n",
        "    if x >= 90: return \"A\"\n",
        "    if x >= 80: return \"B\"\n",
        "    if x >= 70: return \"C\"\n",
        "    if x >= 60: return \"D\"\n",
        "    if x >= 50: return \"E\"\n",
        "    return \"F\"\n",
        "GG_df[\"LetterGrade\"] = GG_df[\"Grade_clean\"].apply(grade_to_letter)\n",
        "\n",
        "print(GG_df.head(10))\n",
        "print(\"\\nColumns of GG_df after adding LetterGrade:\")\n",
        "print(GG_df.columns)\n",
        "\n",
        "\n",
        "print(GG_df.info())\n",
        "GG_sample = GG_df.sample(random_state = 1)\n",
        "\n",
        "label_counts = GG_df[\"LetterGrade\"].value_counts().sort_index()\n",
        "\n",
        "print(\"=== Count of each Letter Grade ===\")\n",
        "for label, count in label_counts.items():\n",
        "  print(f\"{label}: {count}\")\n",
        ""
      ],
      "metadata": {
        "id": "aKgPLRXi5UKa",
        "outputId": "cc4a5f18-40d6-4a3c-d775-5d9954f797d9",
        "colab": {
          "base_uri": "https://localhost:8080/"
        }
      },
      "execution_count": 20,
      "outputs": [
        {
          "output_type": "stream",
          "name": "stdout",
          "text": [
            "   Sex  School Code  Playing Years  Playing Often  Playing Hours  \\\n",
            "0    0            1              1              2              1   \n",
            "1    1            1              1              3              1   \n",
            "2    0            1              0              0              0   \n",
            "3    0            1              3              5              1   \n",
            "4    1            1              1              1              2   \n",
            "5    0            1              1              5              1   \n",
            "6    0            1              1              2              2   \n",
            "7    0            1              1              5              2   \n",
            "8    1            1              2              1              1   \n",
            "9    0            1              2              5              2   \n",
            "\n",
            "   Playing Games  Parent Revenue  Father Education  Mother Education  Grade  \\\n",
            "0              1               4                 4                 5  77.50   \n",
            "1              1               1                 3                 3  83.00   \n",
            "2              0               1                 3                 3  80.00   \n",
            "3              1               2                 2                 3  45.00   \n",
            "4              1               1                 3                 4  85.00   \n",
            "5              1               1                 2                 2  80.00   \n",
            "6              1               2                 3                 3  55.00   \n",
            "7              1               2                 3                 3  80.00   \n",
            "8              1               3                 3                 5  60.00   \n",
            "9              1               1                 2                 4  88.00   \n",
            "\n",
            "  percentage  Grade_clean LetterGrade  \n",
            "0   7750,00%         77.5           C  \n",
            "1   8300,00%         83.0           B  \n",
            "2   8000,00%         80.0           B  \n",
            "3   4500,00%         45.0           F  \n",
            "4   8500,00%         85.0           B  \n",
            "5   8000,00%         80.0           B  \n",
            "6   5500,00%         55.0           E  \n",
            "7   8000,00%         80.0           B  \n",
            "8   6000,00%         60.0           D  \n",
            "9   8800,00%         88.0           B  \n",
            "\n",
            "Columns of GG_df after adding LetterGrade:\n",
            "Index(['Sex', 'School Code', 'Playing Years', 'Playing Often', 'Playing Hours',\n",
            "       'Playing Games', 'Parent Revenue', 'Father Education',\n",
            "       'Mother Education', 'Grade', 'percentage', 'Grade_clean',\n",
            "       'LetterGrade'],\n",
            "      dtype='object')\n",
            "<class 'pandas.core.frame.DataFrame'>\n",
            "RangeIndex: 770 entries, 0 to 769\n",
            "Data columns (total 13 columns):\n",
            " #   Column            Non-Null Count  Dtype  \n",
            "---  ------            --------------  -----  \n",
            " 0   Sex               770 non-null    int64  \n",
            " 1   School Code       770 non-null    int64  \n",
            " 2   Playing Years     770 non-null    int64  \n",
            " 3   Playing Often     770 non-null    int64  \n",
            " 4   Playing Hours     770 non-null    int64  \n",
            " 5   Playing Games     770 non-null    int64  \n",
            " 6   Parent Revenue    770 non-null    int64  \n",
            " 7   Father Education  770 non-null    int64  \n",
            " 8   Mother Education  770 non-null    int64  \n",
            " 9   Grade             770 non-null    object \n",
            " 10  percentage        770 non-null    object \n",
            " 11  Grade_clean       769 non-null    float64\n",
            " 12  LetterGrade       769 non-null    object \n",
            "dtypes: float64(1), int64(9), object(3)\n",
            "memory usage: 78.3+ KB\n",
            "None\n",
            "=== Count of each Letter Grade ===\n",
            "A: 236\n",
            "B: 155\n",
            "C: 153\n",
            "D: 113\n",
            "E: 80\n",
            "F: 32\n"
          ]
        }
      ]
    }
  ]
}